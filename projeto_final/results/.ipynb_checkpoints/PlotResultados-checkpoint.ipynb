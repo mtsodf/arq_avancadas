{
 "cells": [
  {
   "cell_type": "code",
   "execution_count": 2,
   "metadata": {
    "collapsed": true
   },
   "outputs": [],
   "source": [
    "%matplotlib inline\n",
    "\n",
    "import matplotlib.pyplot as plt\n",
    "import numpy as np\n",
    "import math \n",
    "import pandas as pd\n",
    "plt.style.use('ggplot')\n",
    "\n"
   ]
  },
  {
   "cell_type": "code",
   "execution_count": 3,
   "metadata": {
    "collapsed": true
   },
   "outputs": [],
   "source": [
    "def set_ax_style(ax):\n",
    "    ax.legend(bbox_to_anchor=(1.05, 1), loc=2, borderaxespad=0., fontsize=20)\n",
    "\n",
    "    for line in ax.get_ygridlines()+ax.get_xgridlines():\n",
    "        line.set_linestyle('-.')\n",
    "        line.set_color(\"black\")\n",
    "        line.set_linewidth(2.0)\n",
    "\n",
    "    for line in ax.get_xticklines() + ax.get_yticklines():\n",
    "        line.set_linewidth(3.0)\n",
    "\n",
    "\n",
    "    ticklabels = ax.get_xticklabels() + ax.get_yticklabels()   \n",
    "    for label in ticklabels:\n",
    "        label.set_fontsize(30)"
   ]
  },
  {
   "cell_type": "markdown",
   "metadata": {},
   "source": [
    "# Resultados para um nó"
   ]
  },
  {
   "cell_type": "code",
   "execution_count": 12,
   "metadata": {},
   "outputs": [],
   "source": [
    "names = [\"Caso\", \"Tipo\", \"Processos\\Threads\" ,\"Tempo Total\", \"Tempo Encontrar Minimo\", \"Tempo Sincronizar\", \"Iterações\", \"Custo Calc\", \"Custo Otimo\"]\n",
    "data = pd.read_csv(\"resultados_random_1.txt\", sep=\";\", header=None, names=names)"
   ]
  },
  {
   "cell_type": "code",
   "execution_count": 19,
   "metadata": {},
   "outputs": [],
   "source": [
    "data.Caso = data.Caso.apply(lambda x: x.split(\"/\")[-1].split(\".\")[0])"
   ]
  },
  {
   "cell_type": "code",
   "execution_count": 25,
   "metadata": {},
   "outputs": [
    {
     "name": "stdout",
     "output_type": "stream",
     "text": [
      "       Processos\\Threads  Tempo Total  Tempo Encontrar Minimo  \\\n",
      "count         234.000000   234.000000              234.000000   \n",
      "mean            7.029915     4.513807                1.294339   \n",
      "std             5.916004    15.439721                1.147740   \n",
      "min             1.000000     0.493896                0.161621   \n",
      "25%             2.000000     1.410950                0.397949   \n",
      "50%             4.000000     1.930908                0.855103   \n",
      "75%            16.000000     2.872863                1.854431   \n",
      "max            16.000000   171.770020                4.631592   \n",
      "\n",
      "       Tempo Sincronizar   Iterações    Custo Calc   Custo Otimo  \n",
      "count         234.000000  234.000000    234.000000    234.000000  \n",
      "mean            0.569740   44.017094  35044.831858  30515.170564  \n",
      "std             1.655547    3.257169    645.448146   9602.086536  \n",
      "min             0.021973   37.000000  33716.600431      0.000000  \n",
      "25%             0.065735   42.000000  34586.810712  33523.708507  \n",
      "50%             0.222778   44.000000  34877.817099  33523.708507  \n",
      "75%             0.698975   46.000000  35494.526185  33523.708507  \n",
      "max            23.183105   52.000000  36428.983571  33523.708507  \n",
      "       Processos\\Threads  Tempo Total  Tempo Encontrar Minimo  \\\n",
      "count         200.000000   200.000000              200.000000   \n",
      "mean            6.200000    16.279296               12.504231   \n",
      "std             5.468962    19.667008               11.534431   \n",
      "min             1.000000     1.732910                0.808350   \n",
      "25%             2.000000     6.507263                3.819763   \n",
      "50%             4.000000    12.156861                9.508545   \n",
      "75%             8.000000    20.570923               17.411011   \n",
      "max            16.000000   189.535889               49.088623   \n",
      "\n",
      "       Tempo Sincronizar   Iterações   Custo Calc   Custo Otimo  \n",
      "count         200.000000  200.000000   200.000000  2.000000e+02  \n",
      "mean            0.801166  102.760000  8633.510861  7.910396e+03  \n",
      "std             0.981601    4.993705   201.830549  2.735331e-12  \n",
      "min             0.033936   91.000000  8133.764210  7.910396e+03  \n",
      "25%             0.108887   98.000000  8495.090621  7.910396e+03  \n",
      "50%             0.200074  103.000000  8639.371343  7.910396e+03  \n",
      "75%             1.453674  106.000000  8743.958743  7.910396e+03  \n",
      "max             5.881104  118.000000  9153.266587  7.910396e+03  \n",
      "       Processos\\Threads   Tempo Total  Tempo Encontrar Minimo  \\\n",
      "count         100.000000    100.000000              100.000000   \n",
      "mean            6.200000   8031.504268             7871.718843   \n",
      "std             5.482755   6541.088150             6652.131188   \n",
      "min             1.000000   1478.781982             1443.024414   \n",
      "25%             2.000000   2818.916259             2685.145142   \n",
      "50%             4.000000   5213.741944             5146.081055   \n",
      "75%             8.000000  10393.971923            10313.858033   \n",
      "max            16.000000  20515.138916            20496.145996   \n",
      "\n",
      "       Tempo Sincronizar    Iterações     Custo Calc   Custo Otimo  \n",
      "count         100.000000   100.000000     100.000000  1.000000e+02  \n",
      "mean           11.068254  1291.230000  284641.840857  2.590667e+05  \n",
      "std            21.033747    13.952919    2413.740731  8.775135e-11  \n",
      "min             0.185547  1261.000000  278196.201387  2.590667e+05  \n",
      "25%             0.407715  1281.500000  283226.952676  2.590667e+05  \n",
      "50%             1.462524  1292.500000  284892.345000  2.590667e+05  \n",
      "75%            14.780273  1301.250000  286196.264471  2.590667e+05  \n",
      "max           116.584229  1338.000000  289768.413966  2.590667e+05  \n",
      "       Processos\\Threads  Tempo Total  Tempo Encontrar Minimo  \\\n",
      "count         100.000000   100.000000              100.000000   \n",
      "mean            6.200000   794.375815              758.683105   \n",
      "std             5.482755   536.524900              558.843879   \n",
      "min             1.000000   203.408936              129.347168   \n",
      "25%             2.000000   350.435242              300.809388   \n",
      "50%             4.000000   582.987427              565.780274   \n",
      "75%             8.000000  1022.254150              992.198181   \n",
      "max            16.000000  1799.278076             1795.287354   \n",
      "\n",
      "       Tempo Sincronizar   Iterações    Custo Calc   Custo Otimo  \n",
      "count         100.000000  100.000000    100.000000  1.000000e+02  \n",
      "mean            3.292573  506.970000  56087.282150  5.078355e+04  \n",
      "std             4.281200    9.766418    694.402575  1.462523e-11  \n",
      "min             0.055908  484.000000  54496.874415  5.078355e+04  \n",
      "25%             0.248169  502.000000  55567.945835  5.078355e+04  \n",
      "50%             0.355957  507.000000  56110.186720  5.078355e+04  \n",
      "75%             6.683167  514.000000  56568.341538  5.078355e+04  \n",
      "max            24.700928  528.000000  57583.703991  5.078355e+04  \n",
      "       Processos\\Threads   Tempo Total  Tempo Encontrar Minimo  \\\n",
      "count          12.000000  1.200000e+01            1.200000e+01   \n",
      "mean            9.333333  7.190209e+05            6.887625e+05   \n",
      "std             5.210712  3.520887e+05            3.640666e+05   \n",
      "min             4.000000  3.089797e+05            3.044015e+05   \n",
      "25%             4.000000  5.241250e+05            3.314995e+05   \n",
      "50%             8.000000  6.025614e+05            5.924626e+05   \n",
      "75%            16.000000  1.134066e+06            1.131122e+06   \n",
      "max            16.000000  1.210431e+06            1.187321e+06   \n",
      "\n",
      "       Tempo Sincronizar    Iterações     Custo Calc  Custo Otimo  \n",
      "count          12.000000    12.000000      12.000000         12.0  \n",
      "mean         1873.301392  9017.583333  638102.657140          0.0  \n",
      "std          2126.632582    47.624399    5350.179639          0.0  \n",
      "min             3.143311  8941.000000  626891.522927          0.0  \n",
      "25%             4.822266  8982.000000  635297.762553          0.0  \n",
      "50%          1014.582154  9020.500000  638558.161255          0.0  \n",
      "75%          3526.412598  9055.000000  641602.132631          0.0  \n",
      "max          5209.891113  9094.000000  645994.438898          0.0  \n"
     ]
    }
   ],
   "source": [
    "for caso in data.Caso.unique():\n",
    "    print data[data.Caso == caso].describe()"
   ]
  }
 ],
 "metadata": {
  "kernelspec": {
   "display_name": "Python 2",
   "language": "python",
   "name": "python2"
  },
  "language_info": {
   "codemirror_mode": {
    "name": "ipython",
    "version": 2
   },
   "file_extension": ".py",
   "mimetype": "text/x-python",
   "name": "python",
   "nbconvert_exporter": "python",
   "pygments_lexer": "ipython2",
   "version": "2.7.13"
  }
 },
 "nbformat": 4,
 "nbformat_minor": 2
}
